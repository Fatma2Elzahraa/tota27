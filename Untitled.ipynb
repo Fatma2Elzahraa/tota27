{
 "cells": [
  {
   "cell_type": "code",
   "execution_count": 4,
   "id": "9e0eb22b",
   "metadata": {},
   "outputs": [
    {
     "name": "stdout",
     "output_type": "stream",
     "text": [
      "enter tne name:fatma\n",
      "hello fatma\n"
     ]
    }
   ],
   "source": [
    "x=input(\"enter tne name:\")\n",
    "def my_name(x):\n",
    "    print(\"hello\",x)\n",
    "my_name(x)     \n",
    "  "
   ]
  },
  {
   "cell_type": "code",
   "execution_count": 10,
   "id": "04e55f04",
   "metadata": {},
   "outputs": [
    {
     "ename": "SyntaxError",
     "evalue": "invalid syntax (245050138.py, line 10)",
     "output_type": "error",
     "traceback": [
      "\u001b[1;36m  Cell \u001b[1;32mIn[10], line 10\u001b[1;36m\u001b[0m\n\u001b[1;33m    else:\u001b[0m\n\u001b[1;37m    ^\u001b[0m\n\u001b[1;31mSyntaxError\u001b[0m\u001b[1;31m:\u001b[0m invalid syntax\n"
     ]
    }
   ],
   "source": [
    "x=int(input( \"enter the number:\"))\n",
    "o=[]\n",
    "even=0\n",
    "odd=0\n",
    "for i in range(x):\n",
    "    y=int(input())\n",
    "    o.append(y)\n",
    "    if y %2==0:\n",
    "        even+=1\n",
    "        else:\n",
    "            odd+=1\n",
    "    print(\"even\",even)\n",
    "    print(\"odd\",odd)"
   ]
  },
  {
   "cell_type": "code",
   "execution_count": 9,
   "id": "add6ba57",
   "metadata": {},
   "outputs": [
    {
     "name": "stdout",
     "output_type": "stream",
     "text": [
      "enter the num:5\n",
      "enter tne num:5\n",
      "10\n"
     ]
    }
   ],
   "source": [
    "n=int(input(\"enter the num:\"))\n",
    "n2=int(input(\"enter tne num:\"))\n",
    "def my_number(n,n2):\n",
    "    print(n+n2) \n",
    "my_number(n,n2)    \n",
    "    \n",
    "    "
   ]
  },
  {
   "cell_type": "code",
   "execution_count": null,
   "id": "f96c182d",
   "metadata": {},
   "outputs": [],
   "source": []
  }
 ],
 "metadata": {
  "kernelspec": {
   "display_name": "Python 3 (ipykernel)",
   "language": "python",
   "name": "python3"
  },
  "language_info": {
   "codemirror_mode": {
    "name": "ipython",
    "version": 3
   },
   "file_extension": ".py",
   "mimetype": "text/x-python",
   "name": "python",
   "nbconvert_exporter": "python",
   "pygments_lexer": "ipython3",
   "version": "3.11.4"
  }
 },
 "nbformat": 4,
 "nbformat_minor": 5
}
